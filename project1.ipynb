{
 "cells": [
  {
   "cell_type": "code",
   "execution_count": 1,
   "metadata": {},
   "outputs": [
    {
     "data": {
      "text/plain": [
       "{'strong': 'Do ye like yer drinks strong?',\n",
       " 'salty': 'Do ye like it with a salty tang?',\n",
       " 'bitter': 'Are ye a lubber who likes it bitter?',\n",
       " 'sweet': 'Would ye like a bit of sweetness with yer poison?',\n",
       " 'fruity': 'Are ye one for a fruity finish?'}"
      ]
     },
     "execution_count": 1,
     "metadata": {},
     "output_type": "execute_result"
    }
   ],
   "source": [
    "questions = {\n",
    "\"strong\": \"Do ye like yer drinks strong?\",\n",
    "\"salty\": \"Do ye like it with a salty tang?\",\n",
    "\"bitter\": \"Are ye a lubber who likes it bitter?\",\n",
    "\"sweet\": \"Would ye like a bit of sweetness with yer poison?\",\n",
    "\"fruity\": \"Are ye one for a fruity finish?\",\n",
    "}\n",
    "ingredients = {\n",
    "\"strong\": [\"glug of rum\", \"slug of whisky\", \"splash of gin\"],\n",
    "\"salty\": [\"olive on a stick\", \"salt-dusted rim\", \"rasher of bacon\"],\n",
    "\"bitter\": [\"shake of bitters\", \"splash of tonic\", \"twist of lemon peel\"],\n",
    "\"sweet\": [\"sugar cube\", \"spoonful of honey\", \"spash of cola\"],\n",
    "\"fruity\": [\"slice of orange\", \"dash of cassis\", \"cherry on top\"],\n",
    "}\n",
    "questions"
   ]
  },
  {
   "cell_type": "code",
   "execution_count": 14,
   "metadata": {},
   "outputs": [
    {
     "name": "stdout",
     "output_type": "stream",
     "text": [
      "1\n",
      "Taste:  salty\n",
      "Please enter a question:  Do ye like it with a salty tang?\n",
      "Answer: rasher of bacon\n"
     ]
    }
   ],
   "source": [
    "import random\n",
    "\n",
    "def project1(dict1, dict2,  index):\n",
    "    list_convert1 = list(dict1)\n",
    "    print(\"Taste: \", list_convert1[index])\n",
    "    enterQuestion = dict1[list_convert1[index]]\n",
    "    print(\"Please enter a question: \", enterQuestion)\n",
    "    list_convert2 = list(dict2)[index]\n",
    "    answer = dict2[list_convert2][random.randrange(0, len(dict2.values()))]\n",
    "    print(\"Answer:\", answer)\n",
    "    \n",
    "if __name__ == '__main__':\n",
    "    i = int(input())\n",
    "    project1(questions, ingredients, i)"
   ]
  }
 ],
 "metadata": {
  "kernelspec": {
   "display_name": "Python 3",
   "language": "python",
   "name": "python3"
  },
  "language_info": {
   "codemirror_mode": {
    "name": "ipython",
    "version": 3
   },
   "file_extension": ".py",
   "mimetype": "text/x-python",
   "name": "python",
   "nbconvert_exporter": "python",
   "pygments_lexer": "ipython3",
   "version": "3.8.3"
  }
 },
 "nbformat": 4,
 "nbformat_minor": 4
}
